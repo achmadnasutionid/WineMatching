{
 "cells": [
  {
   "cell_type": "markdown",
   "metadata": {},
   "source": [
    "# Wine Matching"
   ]
  },
  {
   "cell_type": "markdown",
   "metadata": {},
   "source": [
    "-------------------------------------------------------------------------------------------------------------------------------"
   ]
  },
  {
   "cell_type": "markdown",
   "metadata": {},
   "source": [
    "## Bagian Pertama : Pembukaan\n",
    "Wine Matching adalah program yang bertujuan untuk memeberikan list wine yang ingin dicari berdasarkan inputan yang dimasukkan. Program ini kami bangun dilatar belakangi oleh keingintahuan untuk mendalami Pemrosesan Bahasa Alami dan mendapatkan nilai proyek akhir dari matakuliah Pemrosesan Bahasa Alami.\n",
    "\n",
    "### Oleh Kelompok Oenophile\n",
    "1. 11S16027 Haris Situmeang\n",
    "2. 11S16032 Achmad Nasution\n",
    "3. 11S16034 Dohar Napitupulu\n",
    "4. 11S16055 Samuel Napitupulu\n",
    "\n",
    "### Rincian Notebook\n",
    "Notebook ini berisi tentang bagaimana kelompok kami melakukan implementasi dari program Wine Matching. Notebook ini juga menjadi laporan utama dari proyek akhir mata kuliah Pemrosesan Bahasa Alami dengan dosen pengampu:\n",
    "1. Samuel Situmeang, S.Ti., M.Sc\n",
    "2. Yaya Setiadi, S.Si., M.T\n",
    "dan teaching assistant yang selalu menemani saat praktikum berlangsung:\n",
    "1. Dwide Sembiring, S.Kom\n",
    "2. Romasi Sibarani, S.Kom\n",
    "Notebook ini akan dibagi menjadi beberapa bagian:\n",
    "\n",
    "#### 1. Bagian Pertama : Pembukaan\n",
    "Pada bagian ini akan dilakukan penjelasan singkat dari program, perkenalan kelompok, dan juga rincian dari notebook ini.\n",
    "\n",
    "#### 2. Bagian Kedua : Load Data\n",
    "Pada bagian ini akan dijelaskan dan diimplementasikan bagaimana kelompok kami melakukan load data Wine yang akan kami oleh untuk menjadi data utama dari program yang akan kami bangun. Data Wine yang kami gunakan berasal dari Kaggle\n",
    "https://www.kaggle.com/christopheiv/winemagdata130k\n",
    "Data ini membicarakan tentang Review dan Description sebuah produk Wine yang berasal dari website Winemag\n",
    "https://www.winemag.com/\n",
    "\n",
    "#### 3. Bagian Ketiga : Data Cleaning\n",
    "Pada bagian ini akan dijelaskan dan diimplementasikan bagaimana kelompok kami melakukan cleaning data Wine yang sudah ada. Bagian ini bertujuan untuk memastikan kejanggalan data tidak mempengaruhi hasil dari Wine Matching yang dilakukan.\n",
    "\n",
    "#### 4. Bagian Keempat : Text Preprocessing\n",
    "Pada bagian ini akan dijelaskan dan diimplementasikan bagaimana kelompok kami melakukan text preprocessing data Wine yang sudah ada. Bagian ini bertujuan untuk memastikan data bersih dari keambiguitasan kata.\n",
    "\n",
    "#### 5. Bagian Kelima : Feature Extraction\n",
    "Pada bagian ini akan dijelaskan dan diimplementasikan bagaimana kelompok kami melakukan feature extraction pada data Wine. Feature extraction diperlukan pada wine matching ini dikarnakan feature yang didapat akan dijadikan acuan dalam pencarian nantinya.\n",
    "\n",
    "#### 6. Bagian Keenam : Calculating The Pairwise Similarity Scores\n",
    "Pada bagian ini akan dijelaskan dan diimplementasikan bagaimana kelompok kami melakukan calculating the pairwise similarity scores pada data features yang sudah didapat dari bagian sebelumnya. Calculating the pairwise similarity scores ini berguna dalam mendapatkan nilai kemiripan dari data features.\n",
    "\n",
    "#### 7. Bagian Ketujuh : Program\n",
    "Pada bagian ini akan dijelaskan dan diimplementasikan bagaimana kelompok kami membangun program Wine Matching."
   ]
  },
  {
   "cell_type": "markdown",
   "metadata": {},
   "source": [
    " ------------------------------------------------------------------------------------------------------------------------------"
   ]
  },
  {
   "cell_type": "markdown",
   "metadata": {},
   "source": [
    "## Bagian Kedua : Load Data\n",
    "Load data yang kelompok kami lekukan dibantu oleh pandas library, pandas adalah sebuah librari berlisensi BSD dan open source yang menyediakan struktur data dan analisis data yang mudah digunakan dan berkinerja tinggi untuk bahasa pemrograman Python. Data akan diload pada variabel yang dinamai sebagai \"data\". \n",
    "\n",
    "Cara load data yang kelompok kami lakukan adalah dengan menggunakan fungsi read_csv yang disedikaan oleh pandas library."
   ]
  },
  {
   "cell_type": "code",
   "execution_count": 3,
   "metadata": {},
   "outputs": [
    {
     "data": {
      "text/html": [
       "<div>\n",
       "<style scoped>\n",
       "    .dataframe tbody tr th:only-of-type {\n",
       "        vertical-align: middle;\n",
       "    }\n",
       "\n",
       "    .dataframe tbody tr th {\n",
       "        vertical-align: top;\n",
       "    }\n",
       "\n",
       "    .dataframe thead th {\n",
       "        text-align: right;\n",
       "    }\n",
       "</style>\n",
       "<table border=\"1\" class=\"dataframe\">\n",
       "  <thead>\n",
       "    <tr style=\"text-align: right;\">\n",
       "      <th></th>\n",
       "      <th>Unnamed: 0</th>\n",
       "      <th>country</th>\n",
       "      <th>description</th>\n",
       "      <th>designation</th>\n",
       "      <th>points</th>\n",
       "      <th>price</th>\n",
       "      <th>province</th>\n",
       "      <th>region_1</th>\n",
       "      <th>region_2</th>\n",
       "      <th>taster_name</th>\n",
       "      <th>taster_twitter_handle</th>\n",
       "      <th>title</th>\n",
       "      <th>variety</th>\n",
       "      <th>winery</th>\n",
       "    </tr>\n",
       "  </thead>\n",
       "  <tbody>\n",
       "    <tr>\n",
       "      <th>0</th>\n",
       "      <td>0</td>\n",
       "      <td>Italy</td>\n",
       "      <td>Aromas include tropical fruit, broom, brimston...</td>\n",
       "      <td>Vulkà Bianco</td>\n",
       "      <td>87</td>\n",
       "      <td>NaN</td>\n",
       "      <td>Sicily &amp; Sardinia</td>\n",
       "      <td>Etna</td>\n",
       "      <td>NaN</td>\n",
       "      <td>Kerin O’Keefe</td>\n",
       "      <td>@kerinokeefe</td>\n",
       "      <td>Nicosia 2013 Vulkà Bianco  (Etna)</td>\n",
       "      <td>White Blend</td>\n",
       "      <td>Nicosia</td>\n",
       "    </tr>\n",
       "    <tr>\n",
       "      <th>1</th>\n",
       "      <td>1</td>\n",
       "      <td>Portugal</td>\n",
       "      <td>This is ripe and fruity, a wine that is smooth...</td>\n",
       "      <td>Avidagos</td>\n",
       "      <td>87</td>\n",
       "      <td>15.0</td>\n",
       "      <td>Douro</td>\n",
       "      <td>NaN</td>\n",
       "      <td>NaN</td>\n",
       "      <td>Roger Voss</td>\n",
       "      <td>@vossroger</td>\n",
       "      <td>Quinta dos Avidagos 2011 Avidagos Red (Douro)</td>\n",
       "      <td>Portuguese Red</td>\n",
       "      <td>Quinta dos Avidagos</td>\n",
       "    </tr>\n",
       "    <tr>\n",
       "      <th>2</th>\n",
       "      <td>2</td>\n",
       "      <td>US</td>\n",
       "      <td>Tart and snappy, the flavors of lime flesh and...</td>\n",
       "      <td>NaN</td>\n",
       "      <td>87</td>\n",
       "      <td>14.0</td>\n",
       "      <td>Oregon</td>\n",
       "      <td>Willamette Valley</td>\n",
       "      <td>Willamette Valley</td>\n",
       "      <td>Paul Gregutt</td>\n",
       "      <td>@paulgwine</td>\n",
       "      <td>Rainstorm 2013 Pinot Gris (Willamette Valley)</td>\n",
       "      <td>Pinot Gris</td>\n",
       "      <td>Rainstorm</td>\n",
       "    </tr>\n",
       "    <tr>\n",
       "      <th>3</th>\n",
       "      <td>3</td>\n",
       "      <td>US</td>\n",
       "      <td>Pineapple rind, lemon pith and orange blossom ...</td>\n",
       "      <td>Reserve Late Harvest</td>\n",
       "      <td>87</td>\n",
       "      <td>13.0</td>\n",
       "      <td>Michigan</td>\n",
       "      <td>Lake Michigan Shore</td>\n",
       "      <td>NaN</td>\n",
       "      <td>Alexander Peartree</td>\n",
       "      <td>NaN</td>\n",
       "      <td>St. Julian 2013 Reserve Late Harvest Riesling ...</td>\n",
       "      <td>Riesling</td>\n",
       "      <td>St. Julian</td>\n",
       "    </tr>\n",
       "    <tr>\n",
       "      <th>4</th>\n",
       "      <td>4</td>\n",
       "      <td>US</td>\n",
       "      <td>Much like the regular bottling from 2012, this...</td>\n",
       "      <td>Vintner's Reserve Wild Child Block</td>\n",
       "      <td>87</td>\n",
       "      <td>65.0</td>\n",
       "      <td>Oregon</td>\n",
       "      <td>Willamette Valley</td>\n",
       "      <td>Willamette Valley</td>\n",
       "      <td>Paul Gregutt</td>\n",
       "      <td>@paulgwine</td>\n",
       "      <td>Sweet Cheeks 2012 Vintner's Reserve Wild Child...</td>\n",
       "      <td>Pinot Noir</td>\n",
       "      <td>Sweet Cheeks</td>\n",
       "    </tr>\n",
       "  </tbody>\n",
       "</table>\n",
       "</div>"
      ],
      "text/plain": [
       "   Unnamed: 0   country                                        description  \\\n",
       "0           0     Italy  Aromas include tropical fruit, broom, brimston...   \n",
       "1           1  Portugal  This is ripe and fruity, a wine that is smooth...   \n",
       "2           2        US  Tart and snappy, the flavors of lime flesh and...   \n",
       "3           3        US  Pineapple rind, lemon pith and orange blossom ...   \n",
       "4           4        US  Much like the regular bottling from 2012, this...   \n",
       "\n",
       "                          designation  points  price           province  \\\n",
       "0                        Vulkà Bianco      87    NaN  Sicily & Sardinia   \n",
       "1                            Avidagos      87   15.0              Douro   \n",
       "2                                 NaN      87   14.0             Oregon   \n",
       "3                Reserve Late Harvest      87   13.0           Michigan   \n",
       "4  Vintner's Reserve Wild Child Block      87   65.0             Oregon   \n",
       "\n",
       "              region_1           region_2         taster_name  \\\n",
       "0                 Etna                NaN       Kerin O’Keefe   \n",
       "1                  NaN                NaN          Roger Voss   \n",
       "2    Willamette Valley  Willamette Valley        Paul Gregutt   \n",
       "3  Lake Michigan Shore                NaN  Alexander Peartree   \n",
       "4    Willamette Valley  Willamette Valley        Paul Gregutt   \n",
       "\n",
       "  taster_twitter_handle                                              title  \\\n",
       "0          @kerinokeefe                  Nicosia 2013 Vulkà Bianco  (Etna)   \n",
       "1            @vossroger      Quinta dos Avidagos 2011 Avidagos Red (Douro)   \n",
       "2           @paulgwine       Rainstorm 2013 Pinot Gris (Willamette Valley)   \n",
       "3                   NaN  St. Julian 2013 Reserve Late Harvest Riesling ...   \n",
       "4           @paulgwine   Sweet Cheeks 2012 Vintner's Reserve Wild Child...   \n",
       "\n",
       "          variety               winery  \n",
       "0     White Blend              Nicosia  \n",
       "1  Portuguese Red  Quinta dos Avidagos  \n",
       "2      Pinot Gris            Rainstorm  \n",
       "3        Riesling           St. Julian  \n",
       "4      Pinot Noir         Sweet Cheeks  "
      ]
     },
     "execution_count": 3,
     "metadata": {},
     "output_type": "execute_result"
    }
   ],
   "source": [
    "import pandas as pd \n",
    "\n",
    "data = pd.read_csv(\"D:\\PBA\\project\\winemag-data-130k-v2.csv\")\n",
    "data.head()"
   ]
  },
  {
   "cell_type": "code",
   "execution_count": 4,
   "metadata": {},
   "outputs": [
    {
     "data": {
      "text/plain": [
       "(129971, 14)"
      ]
     },
     "execution_count": 4,
     "metadata": {},
     "output_type": "execute_result"
    }
   ],
   "source": [
    "data.shape"
   ]
  },
  {
   "cell_type": "markdown",
   "metadata": {},
   "source": [
    "Dapat kita lihat data yang diload memiliki 129971 row dan 14 column. Hal ini membuktikan bahwa data yang kami gunakan sudah memenuhi syarat dari proyek akhir matakuliah Pemrosesan Bahasa Alami yaitu diharuskanya menggunakan data yang berjumlah 100000 lebih."
   ]
  },
  {
   "cell_type": "markdown",
   "metadata": {},
   "source": [
    " ------------------------------------------------------------------------------------------------------------------------------"
   ]
  },
  {
   "cell_type": "markdown",
   "metadata": {},
   "source": [
    "## Bagian Ketiga : Data Cleaning\n",
    "Seperti yang sudah dijelaskan pada rincian, bagian ini bertujuan untuk mengolah kejanggalan data agar tidak mempengaruhi hasil dari program Wine Matching yang ingin dibagun. Bagian ini dibagi menjadi beberapa tahapan yakni sebagai berikut:"
   ]
  },
  {
   "cell_type": "markdown",
   "metadata": {},
   "source": [
    "### 1. Tahap Pertama:  Droping Duplicates Data\n",
    "Tahapan ini bertujuan untuk menangani duplicates data yang ada. Duplicates data yang akan didrop adalah berdasarkan column title yang ada pada data.\n",
    "\n",
    "Cara mencari data yang duplicate adalah dengan menggunakan fungsi duplicated yang sudah ada python."
   ]
  },
  {
   "cell_type": "code",
   "execution_count": 5,
   "metadata": {},
   "outputs": [
    {
     "data": {
      "text/html": [
       "<div>\n",
       "<style scoped>\n",
       "    .dataframe tbody tr th:only-of-type {\n",
       "        vertical-align: middle;\n",
       "    }\n",
       "\n",
       "    .dataframe tbody tr th {\n",
       "        vertical-align: top;\n",
       "    }\n",
       "\n",
       "    .dataframe thead th {\n",
       "        text-align: right;\n",
       "    }\n",
       "</style>\n",
       "<table border=\"1\" class=\"dataframe\">\n",
       "  <thead>\n",
       "    <tr style=\"text-align: right;\">\n",
       "      <th></th>\n",
       "      <th>Unnamed: 0</th>\n",
       "      <th>country</th>\n",
       "      <th>description</th>\n",
       "      <th>designation</th>\n",
       "      <th>points</th>\n",
       "      <th>price</th>\n",
       "      <th>province</th>\n",
       "      <th>region_1</th>\n",
       "      <th>region_2</th>\n",
       "      <th>taster_name</th>\n",
       "      <th>taster_twitter_handle</th>\n",
       "      <th>title</th>\n",
       "      <th>variety</th>\n",
       "      <th>winery</th>\n",
       "    </tr>\n",
       "  </thead>\n",
       "  <tbody>\n",
       "    <tr>\n",
       "      <th>9</th>\n",
       "      <td>9</td>\n",
       "      <td>France</td>\n",
       "      <td>This has great depth of flavor with its fresh ...</td>\n",
       "      <td>Les Natures</td>\n",
       "      <td>87</td>\n",
       "      <td>27.0</td>\n",
       "      <td>Alsace</td>\n",
       "      <td>Alsace</td>\n",
       "      <td>NaN</td>\n",
       "      <td>Roger Voss</td>\n",
       "      <td>@vossroger</td>\n",
       "      <td>Jean-Baptiste Adam 2012 Les Natures Pinot Gris...</td>\n",
       "      <td>Pinot Gris</td>\n",
       "      <td>Jean-Baptiste Adam</td>\n",
       "    </tr>\n",
       "    <tr>\n",
       "      <th>10</th>\n",
       "      <td>10</td>\n",
       "      <td>US</td>\n",
       "      <td>Soft, supple plum envelopes an oaky structure ...</td>\n",
       "      <td>Mountain Cuvée</td>\n",
       "      <td>87</td>\n",
       "      <td>19.0</td>\n",
       "      <td>California</td>\n",
       "      <td>Napa Valley</td>\n",
       "      <td>Napa</td>\n",
       "      <td>Virginie Boone</td>\n",
       "      <td>@vboone</td>\n",
       "      <td>Kirkland Signature 2011 Mountain Cuvée Caberne...</td>\n",
       "      <td>Cabernet Sauvignon</td>\n",
       "      <td>Kirkland Signature</td>\n",
       "    </tr>\n",
       "    <tr>\n",
       "      <th>11</th>\n",
       "      <td>11</td>\n",
       "      <td>France</td>\n",
       "      <td>This is a dry wine, very spicy, with a tight, ...</td>\n",
       "      <td>NaN</td>\n",
       "      <td>87</td>\n",
       "      <td>30.0</td>\n",
       "      <td>Alsace</td>\n",
       "      <td>Alsace</td>\n",
       "      <td>NaN</td>\n",
       "      <td>Roger Voss</td>\n",
       "      <td>@vossroger</td>\n",
       "      <td>Leon Beyer 2012 Gewurztraminer (Alsace)</td>\n",
       "      <td>Gewürztraminer</td>\n",
       "      <td>Leon Beyer</td>\n",
       "    </tr>\n",
       "    <tr>\n",
       "      <th>12</th>\n",
       "      <td>12</td>\n",
       "      <td>US</td>\n",
       "      <td>Slightly reduced, this wine offers a chalky, t...</td>\n",
       "      <td>NaN</td>\n",
       "      <td>87</td>\n",
       "      <td>34.0</td>\n",
       "      <td>California</td>\n",
       "      <td>Alexander Valley</td>\n",
       "      <td>Sonoma</td>\n",
       "      <td>Virginie Boone</td>\n",
       "      <td>@vboone</td>\n",
       "      <td>Louis M. Martini 2012 Cabernet Sauvignon (Alex...</td>\n",
       "      <td>Cabernet Sauvignon</td>\n",
       "      <td>Louis M. Martini</td>\n",
       "    </tr>\n",
       "    <tr>\n",
       "      <th>13</th>\n",
       "      <td>13</td>\n",
       "      <td>Italy</td>\n",
       "      <td>This is dominated by oak and oak-driven aromas...</td>\n",
       "      <td>Rosso</td>\n",
       "      <td>87</td>\n",
       "      <td>NaN</td>\n",
       "      <td>Sicily &amp; Sardinia</td>\n",
       "      <td>Etna</td>\n",
       "      <td>NaN</td>\n",
       "      <td>Kerin O’Keefe</td>\n",
       "      <td>@kerinokeefe</td>\n",
       "      <td>Masseria Setteporte 2012 Rosso  (Etna)</td>\n",
       "      <td>Nerello Mascalese</td>\n",
       "      <td>Masseria Setteporte</td>\n",
       "    </tr>\n",
       "  </tbody>\n",
       "</table>\n",
       "</div>"
      ],
      "text/plain": [
       "    Unnamed: 0 country                                        description  \\\n",
       "9            9  France  This has great depth of flavor with its fresh ...   \n",
       "10          10      US  Soft, supple plum envelopes an oaky structure ...   \n",
       "11          11  France  This is a dry wine, very spicy, with a tight, ...   \n",
       "12          12      US  Slightly reduced, this wine offers a chalky, t...   \n",
       "13          13   Italy  This is dominated by oak and oak-driven aromas...   \n",
       "\n",
       "       designation  points  price           province          region_1  \\\n",
       "9      Les Natures      87   27.0             Alsace            Alsace   \n",
       "10  Mountain Cuvée      87   19.0         California       Napa Valley   \n",
       "11             NaN      87   30.0             Alsace            Alsace   \n",
       "12             NaN      87   34.0         California  Alexander Valley   \n",
       "13           Rosso      87    NaN  Sicily & Sardinia              Etna   \n",
       "\n",
       "   region_2     taster_name taster_twitter_handle  \\\n",
       "9       NaN      Roger Voss            @vossroger   \n",
       "10     Napa  Virginie Boone               @vboone   \n",
       "11      NaN      Roger Voss            @vossroger   \n",
       "12   Sonoma  Virginie Boone               @vboone   \n",
       "13      NaN   Kerin O’Keefe          @kerinokeefe   \n",
       "\n",
       "                                                title             variety  \\\n",
       "9   Jean-Baptiste Adam 2012 Les Natures Pinot Gris...          Pinot Gris   \n",
       "10  Kirkland Signature 2011 Mountain Cuvée Caberne...  Cabernet Sauvignon   \n",
       "11            Leon Beyer 2012 Gewurztraminer (Alsace)      Gewürztraminer   \n",
       "12  Louis M. Martini 2012 Cabernet Sauvignon (Alex...  Cabernet Sauvignon   \n",
       "13             Masseria Setteporte 2012 Rosso  (Etna)   Nerello Mascalese   \n",
       "\n",
       "                 winery  \n",
       "9    Jean-Baptiste Adam  \n",
       "10   Kirkland Signature  \n",
       "11           Leon Beyer  \n",
       "12     Louis M. Martini  \n",
       "13  Masseria Setteporte  "
      ]
     },
     "execution_count": 5,
     "metadata": {},
     "output_type": "execute_result"
    }
   ],
   "source": [
    "data[data.duplicated(['title'], keep=False)].head()"
   ]
  },
  {
   "cell_type": "markdown",
   "metadata": {},
   "source": [
    "Sedangkan cara untuk mendrop data yang duplicate itu sendiri adalah dengan menggunakan fungsi drop_duplicates yang disediakan python."
   ]
  },
  {
   "cell_type": "code",
   "execution_count": 6,
   "metadata": {},
   "outputs": [
    {
     "data": {
      "text/html": [
       "<div>\n",
       "<style scoped>\n",
       "    .dataframe tbody tr th:only-of-type {\n",
       "        vertical-align: middle;\n",
       "    }\n",
       "\n",
       "    .dataframe tbody tr th {\n",
       "        vertical-align: top;\n",
       "    }\n",
       "\n",
       "    .dataframe thead th {\n",
       "        text-align: right;\n",
       "    }\n",
       "</style>\n",
       "<table border=\"1\" class=\"dataframe\">\n",
       "  <thead>\n",
       "    <tr style=\"text-align: right;\">\n",
       "      <th></th>\n",
       "      <th>Unnamed: 0</th>\n",
       "      <th>country</th>\n",
       "      <th>description</th>\n",
       "      <th>designation</th>\n",
       "      <th>points</th>\n",
       "      <th>price</th>\n",
       "      <th>province</th>\n",
       "      <th>region_1</th>\n",
       "      <th>region_2</th>\n",
       "      <th>taster_name</th>\n",
       "      <th>taster_twitter_handle</th>\n",
       "      <th>title</th>\n",
       "      <th>variety</th>\n",
       "      <th>winery</th>\n",
       "    </tr>\n",
       "  </thead>\n",
       "  <tbody>\n",
       "    <tr>\n",
       "      <th>0</th>\n",
       "      <td>0</td>\n",
       "      <td>Italy</td>\n",
       "      <td>Aromas include tropical fruit, broom, brimston...</td>\n",
       "      <td>Vulkà Bianco</td>\n",
       "      <td>87</td>\n",
       "      <td>NaN</td>\n",
       "      <td>Sicily &amp; Sardinia</td>\n",
       "      <td>Etna</td>\n",
       "      <td>NaN</td>\n",
       "      <td>Kerin O’Keefe</td>\n",
       "      <td>@kerinokeefe</td>\n",
       "      <td>Nicosia 2013 Vulkà Bianco  (Etna)</td>\n",
       "      <td>White Blend</td>\n",
       "      <td>Nicosia</td>\n",
       "    </tr>\n",
       "    <tr>\n",
       "      <th>1</th>\n",
       "      <td>1</td>\n",
       "      <td>Portugal</td>\n",
       "      <td>This is ripe and fruity, a wine that is smooth...</td>\n",
       "      <td>Avidagos</td>\n",
       "      <td>87</td>\n",
       "      <td>15.0</td>\n",
       "      <td>Douro</td>\n",
       "      <td>NaN</td>\n",
       "      <td>NaN</td>\n",
       "      <td>Roger Voss</td>\n",
       "      <td>@vossroger</td>\n",
       "      <td>Quinta dos Avidagos 2011 Avidagos Red (Douro)</td>\n",
       "      <td>Portuguese Red</td>\n",
       "      <td>Quinta dos Avidagos</td>\n",
       "    </tr>\n",
       "    <tr>\n",
       "      <th>2</th>\n",
       "      <td>2</td>\n",
       "      <td>US</td>\n",
       "      <td>Tart and snappy, the flavors of lime flesh and...</td>\n",
       "      <td>NaN</td>\n",
       "      <td>87</td>\n",
       "      <td>14.0</td>\n",
       "      <td>Oregon</td>\n",
       "      <td>Willamette Valley</td>\n",
       "      <td>Willamette Valley</td>\n",
       "      <td>Paul Gregutt</td>\n",
       "      <td>@paulgwine</td>\n",
       "      <td>Rainstorm 2013 Pinot Gris (Willamette Valley)</td>\n",
       "      <td>Pinot Gris</td>\n",
       "      <td>Rainstorm</td>\n",
       "    </tr>\n",
       "    <tr>\n",
       "      <th>3</th>\n",
       "      <td>3</td>\n",
       "      <td>US</td>\n",
       "      <td>Pineapple rind, lemon pith and orange blossom ...</td>\n",
       "      <td>Reserve Late Harvest</td>\n",
       "      <td>87</td>\n",
       "      <td>13.0</td>\n",
       "      <td>Michigan</td>\n",
       "      <td>Lake Michigan Shore</td>\n",
       "      <td>NaN</td>\n",
       "      <td>Alexander Peartree</td>\n",
       "      <td>NaN</td>\n",
       "      <td>St. Julian 2013 Reserve Late Harvest Riesling ...</td>\n",
       "      <td>Riesling</td>\n",
       "      <td>St. Julian</td>\n",
       "    </tr>\n",
       "    <tr>\n",
       "      <th>4</th>\n",
       "      <td>4</td>\n",
       "      <td>US</td>\n",
       "      <td>Much like the regular bottling from 2012, this...</td>\n",
       "      <td>Vintner's Reserve Wild Child Block</td>\n",
       "      <td>87</td>\n",
       "      <td>65.0</td>\n",
       "      <td>Oregon</td>\n",
       "      <td>Willamette Valley</td>\n",
       "      <td>Willamette Valley</td>\n",
       "      <td>Paul Gregutt</td>\n",
       "      <td>@paulgwine</td>\n",
       "      <td>Sweet Cheeks 2012 Vintner's Reserve Wild Child...</td>\n",
       "      <td>Pinot Noir</td>\n",
       "      <td>Sweet Cheeks</td>\n",
       "    </tr>\n",
       "  </tbody>\n",
       "</table>\n",
       "</div>"
      ],
      "text/plain": [
       "   Unnamed: 0   country                                        description  \\\n",
       "0           0     Italy  Aromas include tropical fruit, broom, brimston...   \n",
       "1           1  Portugal  This is ripe and fruity, a wine that is smooth...   \n",
       "2           2        US  Tart and snappy, the flavors of lime flesh and...   \n",
       "3           3        US  Pineapple rind, lemon pith and orange blossom ...   \n",
       "4           4        US  Much like the regular bottling from 2012, this...   \n",
       "\n",
       "                          designation  points  price           province  \\\n",
       "0                        Vulkà Bianco      87    NaN  Sicily & Sardinia   \n",
       "1                            Avidagos      87   15.0              Douro   \n",
       "2                                 NaN      87   14.0             Oregon   \n",
       "3                Reserve Late Harvest      87   13.0           Michigan   \n",
       "4  Vintner's Reserve Wild Child Block      87   65.0             Oregon   \n",
       "\n",
       "              region_1           region_2         taster_name  \\\n",
       "0                 Etna                NaN       Kerin O’Keefe   \n",
       "1                  NaN                NaN          Roger Voss   \n",
       "2    Willamette Valley  Willamette Valley        Paul Gregutt   \n",
       "3  Lake Michigan Shore                NaN  Alexander Peartree   \n",
       "4    Willamette Valley  Willamette Valley        Paul Gregutt   \n",
       "\n",
       "  taster_twitter_handle                                              title  \\\n",
       "0          @kerinokeefe                  Nicosia 2013 Vulkà Bianco  (Etna)   \n",
       "1            @vossroger      Quinta dos Avidagos 2011 Avidagos Red (Douro)   \n",
       "2           @paulgwine       Rainstorm 2013 Pinot Gris (Willamette Valley)   \n",
       "3                   NaN  St. Julian 2013 Reserve Late Harvest Riesling ...   \n",
       "4           @paulgwine   Sweet Cheeks 2012 Vintner's Reserve Wild Child...   \n",
       "\n",
       "          variety               winery  \n",
       "0     White Blend              Nicosia  \n",
       "1  Portuguese Red  Quinta dos Avidagos  \n",
       "2      Pinot Gris            Rainstorm  \n",
       "3        Riesling           St. Julian  \n",
       "4      Pinot Noir         Sweet Cheeks  "
      ]
     },
     "execution_count": 6,
     "metadata": {},
     "output_type": "execute_result"
    }
   ],
   "source": [
    "data.drop_duplicates(subset=['title'], keep=False, inplace=True)\n",
    "data.head()"
   ]
  },
  {
   "cell_type": "code",
   "execution_count": 7,
   "metadata": {},
   "outputs": [
    {
     "data": {
      "text/plain": [
       "(108104, 14)"
      ]
     },
     "execution_count": 7,
     "metadata": {},
     "output_type": "execute_result"
    }
   ],
   "source": [
    "data.shape"
   ]
  },
  {
   "cell_type": "markdown",
   "metadata": {},
   "source": [
    "Dapat kita lihat, data sekarang hanya memiliki 108104 row. Hal ini dikarnakan duplicates data yang sudah didrop dari data yang ingin kita proses selanjutnya."
   ]
  },
  {
   "cell_type": "markdown",
   "metadata": {},
   "source": [
    "### 2. Tahap Kedua : Dealing with Null Values\n",
    "Tahapan ini bertujuan untuk menangani data yang miliki null values pada columnnya.\n",
    "\n",
    "Cara untuk mencari null values pada data adalah dengan cara yang umum yaitu melakukan tracing data sambil mengecek apakah data tersebut null values atau tidaknya dengan menggunakan fungsi isnull."
   ]
  },
  {
   "cell_type": "code",
   "execution_count": 8,
   "metadata": {},
   "outputs": [
    {
     "data": {
      "text/plain": [
       "Unnamed: 0                   0\n",
       "country                     55\n",
       "description                  0\n",
       "designation              31164\n",
       "points                       0\n",
       "price                     7556\n",
       "province                    55\n",
       "region_1                 17754\n",
       "region_2                 65399\n",
       "taster_name              23293\n",
       "taster_twitter_handle    27368\n",
       "title                        0\n",
       "variety                      1\n",
       "winery                       0\n",
       "dtype: int64"
      ]
     },
     "execution_count": 8,
     "metadata": {},
     "output_type": "execute_result"
    }
   ],
   "source": [
    "data.isnull().sum()"
   ]
  },
  {
   "cell_type": "markdown",
   "metadata": {},
   "source": [
    "Terlihat beberapa column hanya memiliki sedikit null values saja dan ada juga yang memiliki banyak nilai null values. Kami akan mendrop data null values yang ada pada column yang sedikit memiliki null values saja. Dan mendrop column yang memiliki banyak null values dikarnakan pastinya akan mengganggu hasil dari program Wine Mathcing nantinya.\n",
    "\n",
    "Cara untuk mendrop null values adalah dengan menggunakan fungsi dropna yang disediakan oleh python."
   ]
  },
  {
   "cell_type": "code",
   "execution_count": 9,
   "metadata": {},
   "outputs": [],
   "source": [
    "data = data.dropna(subset=['country'])\n",
    "data = data.dropna(subset=['province'])\n",
    "data = data.dropna(subset=['price'])\n",
    "data = data.dropna(subset=['variety'])"
   ]
  },
  {
   "cell_type": "markdown",
   "metadata": {},
   "source": [
    "Sedangkan untuk cara mendrop column adalah dengan menggunakan fungsi drop yang sudah disediakan oleh python."
   ]
  },
  {
   "cell_type": "code",
   "execution_count": 10,
   "metadata": {},
   "outputs": [
    {
     "data": {
      "text/html": [
       "<div>\n",
       "<style scoped>\n",
       "    .dataframe tbody tr th:only-of-type {\n",
       "        vertical-align: middle;\n",
       "    }\n",
       "\n",
       "    .dataframe tbody tr th {\n",
       "        vertical-align: top;\n",
       "    }\n",
       "\n",
       "    .dataframe thead th {\n",
       "        text-align: right;\n",
       "    }\n",
       "</style>\n",
       "<table border=\"1\" class=\"dataframe\">\n",
       "  <thead>\n",
       "    <tr style=\"text-align: right;\">\n",
       "      <th></th>\n",
       "      <th>Unnamed: 0</th>\n",
       "      <th>country</th>\n",
       "      <th>description</th>\n",
       "      <th>points</th>\n",
       "      <th>price</th>\n",
       "      <th>province</th>\n",
       "      <th>title</th>\n",
       "      <th>variety</th>\n",
       "      <th>winery</th>\n",
       "    </tr>\n",
       "  </thead>\n",
       "  <tbody>\n",
       "    <tr>\n",
       "      <th>1</th>\n",
       "      <td>1</td>\n",
       "      <td>Portugal</td>\n",
       "      <td>This is ripe and fruity, a wine that is smooth...</td>\n",
       "      <td>87</td>\n",
       "      <td>15.0</td>\n",
       "      <td>Douro</td>\n",
       "      <td>Quinta dos Avidagos 2011 Avidagos Red (Douro)</td>\n",
       "      <td>Portuguese Red</td>\n",
       "      <td>Quinta dos Avidagos</td>\n",
       "    </tr>\n",
       "    <tr>\n",
       "      <th>2</th>\n",
       "      <td>2</td>\n",
       "      <td>US</td>\n",
       "      <td>Tart and snappy, the flavors of lime flesh and...</td>\n",
       "      <td>87</td>\n",
       "      <td>14.0</td>\n",
       "      <td>Oregon</td>\n",
       "      <td>Rainstorm 2013 Pinot Gris (Willamette Valley)</td>\n",
       "      <td>Pinot Gris</td>\n",
       "      <td>Rainstorm</td>\n",
       "    </tr>\n",
       "    <tr>\n",
       "      <th>3</th>\n",
       "      <td>3</td>\n",
       "      <td>US</td>\n",
       "      <td>Pineapple rind, lemon pith and orange blossom ...</td>\n",
       "      <td>87</td>\n",
       "      <td>13.0</td>\n",
       "      <td>Michigan</td>\n",
       "      <td>St. Julian 2013 Reserve Late Harvest Riesling ...</td>\n",
       "      <td>Riesling</td>\n",
       "      <td>St. Julian</td>\n",
       "    </tr>\n",
       "    <tr>\n",
       "      <th>4</th>\n",
       "      <td>4</td>\n",
       "      <td>US</td>\n",
       "      <td>Much like the regular bottling from 2012, this...</td>\n",
       "      <td>87</td>\n",
       "      <td>65.0</td>\n",
       "      <td>Oregon</td>\n",
       "      <td>Sweet Cheeks 2012 Vintner's Reserve Wild Child...</td>\n",
       "      <td>Pinot Noir</td>\n",
       "      <td>Sweet Cheeks</td>\n",
       "    </tr>\n",
       "    <tr>\n",
       "      <th>5</th>\n",
       "      <td>5</td>\n",
       "      <td>Spain</td>\n",
       "      <td>Blackberry and raspberry aromas show a typical...</td>\n",
       "      <td>87</td>\n",
       "      <td>15.0</td>\n",
       "      <td>Northern Spain</td>\n",
       "      <td>Tandem 2011 Ars In Vitro Tempranillo-Merlot (N...</td>\n",
       "      <td>Tempranillo-Merlot</td>\n",
       "      <td>Tandem</td>\n",
       "    </tr>\n",
       "  </tbody>\n",
       "</table>\n",
       "</div>"
      ],
      "text/plain": [
       "   Unnamed: 0   country                                        description  \\\n",
       "1           1  Portugal  This is ripe and fruity, a wine that is smooth...   \n",
       "2           2        US  Tart and snappy, the flavors of lime flesh and...   \n",
       "3           3        US  Pineapple rind, lemon pith and orange blossom ...   \n",
       "4           4        US  Much like the regular bottling from 2012, this...   \n",
       "5           5     Spain  Blackberry and raspberry aromas show a typical...   \n",
       "\n",
       "   points  price        province  \\\n",
       "1      87   15.0           Douro   \n",
       "2      87   14.0          Oregon   \n",
       "3      87   13.0        Michigan   \n",
       "4      87   65.0          Oregon   \n",
       "5      87   15.0  Northern Spain   \n",
       "\n",
       "                                               title             variety  \\\n",
       "1      Quinta dos Avidagos 2011 Avidagos Red (Douro)      Portuguese Red   \n",
       "2      Rainstorm 2013 Pinot Gris (Willamette Valley)          Pinot Gris   \n",
       "3  St. Julian 2013 Reserve Late Harvest Riesling ...            Riesling   \n",
       "4  Sweet Cheeks 2012 Vintner's Reserve Wild Child...          Pinot Noir   \n",
       "5  Tandem 2011 Ars In Vitro Tempranillo-Merlot (N...  Tempranillo-Merlot   \n",
       "\n",
       "                winery  \n",
       "1  Quinta dos Avidagos  \n",
       "2            Rainstorm  \n",
       "3           St. Julian  \n",
       "4         Sweet Cheeks  \n",
       "5               Tandem  "
      ]
     },
     "execution_count": 10,
     "metadata": {},
     "output_type": "execute_result"
    }
   ],
   "source": [
    "data = data.drop(['designation', 'region_1', 'region_2','taster_name', 'taster_twitter_handle' ], axis=1)\n",
    "data.head()"
   ]
  },
  {
   "cell_type": "code",
   "execution_count": 11,
   "metadata": {
    "scrolled": true
   },
   "outputs": [
    {
     "data": {
      "text/plain": [
       "Unnamed: 0     0\n",
       "country        0\n",
       "description    0\n",
       "points         0\n",
       "price          0\n",
       "province       0\n",
       "title          0\n",
       "variety        0\n",
       "winery         0\n",
       "dtype: int64"
      ]
     },
     "execution_count": 11,
     "metadata": {},
     "output_type": "execute_result"
    }
   ],
   "source": [
    "data.isnull().sum()"
   ]
  },
  {
   "cell_type": "code",
   "execution_count": 12,
   "metadata": {},
   "outputs": [
    {
     "data": {
      "text/plain": [
       "(100496, 9)"
      ]
     },
     "execution_count": 12,
     "metadata": {},
     "output_type": "execute_result"
    }
   ],
   "source": [
    "data.shape"
   ]
  },
  {
   "cell_type": "markdown",
   "metadata": {},
   "source": [
    "Dapat kita lihat, data berkurang kembali dikarnakan kita sudah melakukan drop data yang memiliki null values pada columnnya. Data yang sekarang sudah menjadi 9 column saja. Dapat disimpulkan juga, walaupun sudah melakukan data cleaning, data yang kami gunakan masih mencakupi syarat dari proyek akhir matakuliah Pemrosesan Bahasa Alami.\n",
    "\n",
    "Dikarnakan 100496 sangat banyak dan membuat laptop crash, kelompok kami hanya akan menggunakan 10000 data saja sebagai sample."
   ]
  },
  {
   "cell_type": "code",
   "execution_count": 13,
   "metadata": {},
   "outputs": [
    {
     "data": {
      "text/html": [
       "<div>\n",
       "<style scoped>\n",
       "    .dataframe tbody tr th:only-of-type {\n",
       "        vertical-align: middle;\n",
       "    }\n",
       "\n",
       "    .dataframe tbody tr th {\n",
       "        vertical-align: top;\n",
       "    }\n",
       "\n",
       "    .dataframe thead th {\n",
       "        text-align: right;\n",
       "    }\n",
       "</style>\n",
       "<table border=\"1\" class=\"dataframe\">\n",
       "  <thead>\n",
       "    <tr style=\"text-align: right;\">\n",
       "      <th></th>\n",
       "      <th>Unnamed: 0</th>\n",
       "      <th>country</th>\n",
       "      <th>description</th>\n",
       "      <th>points</th>\n",
       "      <th>price</th>\n",
       "      <th>province</th>\n",
       "      <th>title</th>\n",
       "      <th>variety</th>\n",
       "      <th>winery</th>\n",
       "    </tr>\n",
       "  </thead>\n",
       "  <tbody>\n",
       "    <tr>\n",
       "      <th>101350</th>\n",
       "      <td>101350</td>\n",
       "      <td>Italy</td>\n",
       "      <td>This blend of Sangiovese, Cabernet Sauvignon a...</td>\n",
       "      <td>87</td>\n",
       "      <td>55.0</td>\n",
       "      <td>Tuscany</td>\n",
       "      <td>Fattoria la Castellina 2008 Aureo Red (Rosso d...</td>\n",
       "      <td>Red Blend</td>\n",
       "      <td>Fattoria la Castellina</td>\n",
       "    </tr>\n",
       "    <tr>\n",
       "      <th>118867</th>\n",
       "      <td>118867</td>\n",
       "      <td>US</td>\n",
       "      <td>Fulfills one of the main tenets of California ...</td>\n",
       "      <td>90</td>\n",
       "      <td>28.0</td>\n",
       "      <td>California</td>\n",
       "      <td>Sinor-LaVallee 2010 Les Galets Vineyards Syrah...</td>\n",
       "      <td>Syrah</td>\n",
       "      <td>Sinor-LaVallee</td>\n",
       "    </tr>\n",
       "    <tr>\n",
       "      <th>58193</th>\n",
       "      <td>58193</td>\n",
       "      <td>US</td>\n",
       "      <td>Buttered black cherries and olallieberries mix...</td>\n",
       "      <td>88</td>\n",
       "      <td>58.0</td>\n",
       "      <td>California</td>\n",
       "      <td>Proulx 2013 Dimples Red (Paso Robles)</td>\n",
       "      <td>Red Blend</td>\n",
       "      <td>Proulx</td>\n",
       "    </tr>\n",
       "    <tr>\n",
       "      <th>2255</th>\n",
       "      <td>2255</td>\n",
       "      <td>US</td>\n",
       "      <td>Rich, savory and appealing now for its smooth ...</td>\n",
       "      <td>87</td>\n",
       "      <td>25.0</td>\n",
       "      <td>California</td>\n",
       "      <td>X 2007 Cabernet Sauvignon (Napa Valley)</td>\n",
       "      <td>Cabernet Sauvignon</td>\n",
       "      <td>X</td>\n",
       "    </tr>\n",
       "    <tr>\n",
       "      <th>105911</th>\n",
       "      <td>105911</td>\n",
       "      <td>US</td>\n",
       "      <td>There are just enough plush, woody tannins her...</td>\n",
       "      <td>83</td>\n",
       "      <td>17.0</td>\n",
       "      <td>Virginia</td>\n",
       "      <td>Cooper Vineyards 2007 Norton (Virginia)</td>\n",
       "      <td>Norton</td>\n",
       "      <td>Cooper Vineyards</td>\n",
       "    </tr>\n",
       "  </tbody>\n",
       "</table>\n",
       "</div>"
      ],
      "text/plain": [
       "        Unnamed: 0 country                                        description  \\\n",
       "101350      101350   Italy  This blend of Sangiovese, Cabernet Sauvignon a...   \n",
       "118867      118867      US  Fulfills one of the main tenets of California ...   \n",
       "58193        58193      US  Buttered black cherries and olallieberries mix...   \n",
       "2255          2255      US  Rich, savory and appealing now for its smooth ...   \n",
       "105911      105911      US  There are just enough plush, woody tannins her...   \n",
       "\n",
       "        points  price    province  \\\n",
       "101350      87   55.0     Tuscany   \n",
       "118867      90   28.0  California   \n",
       "58193       88   58.0  California   \n",
       "2255        87   25.0  California   \n",
       "105911      83   17.0    Virginia   \n",
       "\n",
       "                                                    title             variety  \\\n",
       "101350  Fattoria la Castellina 2008 Aureo Red (Rosso d...           Red Blend   \n",
       "118867  Sinor-LaVallee 2010 Les Galets Vineyards Syrah...               Syrah   \n",
       "58193               Proulx 2013 Dimples Red (Paso Robles)           Red Blend   \n",
       "2255              X 2007 Cabernet Sauvignon (Napa Valley)  Cabernet Sauvignon   \n",
       "105911            Cooper Vineyards 2007 Norton (Virginia)              Norton   \n",
       "\n",
       "                        winery  \n",
       "101350  Fattoria la Castellina  \n",
       "118867          Sinor-LaVallee  \n",
       "58193                   Proulx  \n",
       "2255                         X  \n",
       "105911        Cooper Vineyards  "
      ]
     },
     "execution_count": 13,
     "metadata": {},
     "output_type": "execute_result"
    }
   ],
   "source": [
    "data = data.sample(n=10000, random_state=42)\n",
    "data.head()"
   ]
  },
  {
   "cell_type": "code",
   "execution_count": 14,
   "metadata": {},
   "outputs": [
    {
     "data": {
      "text/plain": [
       "(10000, 9)"
      ]
     },
     "execution_count": 14,
     "metadata": {},
     "output_type": "execute_result"
    }
   ],
   "source": [
    "data.shape"
   ]
  },
  {
   "cell_type": "markdown",
   "metadata": {},
   "source": [
    "------------------------------------------------------------------------------------------------------------------------------- "
   ]
  },
  {
   "cell_type": "markdown",
   "metadata": {},
   "source": [
    "## Bagian Keempat : Text Preprocessing\n",
    "Seperti yang sudah dijelaskan pada bagian rincian notebook, bagian ini bertujuan untuk memastikan data terhindar dari keambiguitasan kata agar tidak mempengaruhi hasil dari program Wine Matching yang ingin dibangun. Bagian ini dibagi menjadi beberapa tahapan sebagai berikut:"
   ]
  },
  {
   "cell_type": "markdown",
   "metadata": {},
   "source": [
    "### 1. Tahap Pertama : Stemming\n",
    "Tahapan stemming yang kami lakukan dibantu oleh SnowballStemmer yang berasal dari nltk library. Kelompok kami memilih menggunakan SnowballStemmer dikarnakan berdasakarnakan penjelasan https://kite.com/python/docs/nltk.SnowballStemmer\n",
    "SnowballStemmer adalah optimasi dari PorterStemmer menjadikan kelompok kami berasumsi bahwa SnowballStemmer lebih unggul dan juga open source yang kami gunakan sebagai referensi menggunakan ini. Contoh keunggulan SnowballStemmer terdapat pada website ini https://www.nltk.org/howto/stem.html"
   ]
  },
  {
   "cell_type": "code",
   "execution_count": 15,
   "metadata": {},
   "outputs": [],
   "source": [
    "from nltk.stem.snowball import SnowballStemmer\n",
    "stemmer = SnowballStemmer('english')"
   ]
  },
  {
   "cell_type": "markdown",
   "metadata": {},
   "source": [
    "### 2. Tahap Kedua : Tokenizing\n",
    "\n",
    "Kelompok kami juga memilih menggunkaan RegexpTokenizer dikarnakan kami menghindari kata yang diawali dengan angka menjadi 1 token.\n",
    "\n",
    "Cara kelompok kami melakukan tokenizing adalah dengan:\n",
    "1. melakukan tokenizing dengan regex yang sudah ada\n",
    "2. token yang dihasilkan dilowerkan menggunakan fungsi lower yang ada pada python\n",
    "3. melakukan stemming pada setiap token yang dihasilkan"
   ]
  },
  {
   "cell_type": "code",
   "execution_count": 16,
   "metadata": {},
   "outputs": [],
   "source": [
    "from nltk.tokenize import RegexpTokenizer\n",
    "tokenizer = RegexpTokenizer(r'[a-zA-Z\\']+')\n",
    "\n",
    "def tokenize(text):\n",
    "    return [stemmer.stem(word) for word in tokenizer.tokenize(text.lower())]"
   ]
  },
  {
   "cell_type": "markdown",
   "metadata": {},
   "source": [
    " ------------------------------------------------------------------------------------------------------------------------------"
   ]
  },
  {
   "cell_type": "markdown",
   "metadata": {},
   "source": [
    "## Bagian Kelima : Feature Extraction\n",
    "Kelompok kami menggunakan Term Frequency Inverse Document Frequency (TF-IDF) dalam melakukan feature extraction. Cara kerja utama dari TF-IDF itu sendiri adalah menurunkan bobot kata-kata yang lebih umum. Sehingga pemodelan mendapatkan hasil yang lebih optimal dari kata-kata yang digunakan pada Wine Matching yang ingin dibagun. Bagian ini dibagi menjadi beberapa tahapan sebagai berikut:"
   ]
  },
  {
   "cell_type": "markdown",
   "metadata": {},
   "source": [
    "### 1. Tahap Pertama : Stopwords Removal\n",
    "Dikarnakan data berisi text dengan bahasa inggris, kelompok kami akan menggunakan stopwords yang berbahasa inggris juga yang dibantu oleh ENGLISH_STOP_WORDS yang terdapat pada FeatureExtraction dalam sklearn library."
   ]
  },
  {
   "cell_type": "code",
   "execution_count": 17,
   "metadata": {},
   "outputs": [],
   "source": [
    "from sklearn.feature_extraction import text\n",
    "stop_words = text.ENGLISH_STOP_WORDS"
   ]
  },
  {
   "cell_type": "markdown",
   "metadata": {},
   "source": [
    "### 2. Tahap Kedua : TF-IDF\n",
    "Kelompok kami melakukan TF-IDF dengan bantuan dari TfidfVectorizer yang terdapat pada FeatureExtraction dalam sklearn library. Kelompok kami juga akan menggunakan column description sebagai column yang menurut kami adalah column yang dapat mewakili seluruh clolumn yang ada.\n",
    "\n",
    "Kelompok kami juga hanya akan mengambil 1000 feature saja untuk menjadi sample."
   ]
  },
  {
   "cell_type": "code",
   "execution_count": 18,
   "metadata": {},
   "outputs": [
    {
     "name": "stderr",
     "output_type": "stream",
     "text": [
      "C:\\Users\\User\\Anaconda3\\lib\\site-packages\\sklearn\\feature_extraction\\text.py:300: UserWarning: Your stop_words may be inconsistent with your preprocessing. Tokenizing the stop words generated tokens ['abov', 'afterward', 'alon', 'alreadi', 'alway', 'ani', 'anoth', 'anyon', 'anyth', 'anywher', 'becam', 'becaus', 'becom', 'befor', 'besid', 'cri', 'describ', 'dure', 'els', 'elsewher', 'empti', 'everi', 'everyon', 'everyth', 'everywher', 'fifti', 'forti', 'henc', 'hereaft', 'herebi', 'howev', 'hundr', 'inde', 'mani', 'meanwhil', 'moreov', 'nobodi', 'noon', 'noth', 'nowher', 'onc', 'onli', 'otherwis', 'ourselv', 'perhap', 'pleas', 'sever', 'sinc', 'sincer', 'sixti', 'someon', 'someth', 'sometim', 'somewher', 'themselv', 'thenc', 'thereaft', 'therebi', 'therefor', 'togeth', 'twelv', 'twenti', 'veri', 'whatev', 'whenc', 'whenev', 'wherea', 'whereaft', 'wherebi', 'wherev', 'whi', 'yourselv'] not in stop_words.\n",
      "  'stop_words.' % sorted(inconsistent))\n"
     ]
    }
   ],
   "source": [
    "from sklearn.feature_extraction.text import TfidfVectorizer\n",
    "tf = TfidfVectorizer(stop_words=stop_words, tokenizer=tokenize, max_features=1000)\n",
    "tf_matrix = tf.fit_transform(data['description'])"
   ]
  },
  {
   "cell_type": "code",
   "execution_count": 19,
   "metadata": {},
   "outputs": [
    {
     "data": {
      "text/plain": [
       "(10000, 1000)"
      ]
     },
     "execution_count": 19,
     "metadata": {},
     "output_type": "execute_result"
    }
   ],
   "source": [
    "tf_matrix.shape"
   ]
  },
  {
   "cell_type": "markdown",
   "metadata": {},
   "source": [
    " ------------------------------------------------------------------------------------------------------------------------------"
   ]
  },
  {
   "cell_type": "markdown",
   "metadata": {},
   "source": [
    "## Bagian Keenam : Calculating The Pairwise Similarity Scores\n",
    "Seperti yang sudah dijelaskan pada rincian, bagian ini akan menghitung pairwise similarity scores. Kelompok kami akan menggunakan Cosine Similarity dalam menghitung pairwise seimilarity scores. Kelompok kami mendapatkan bantuan untuk melakukan Cosine Similarity dari linear_kernel dari sklearn library."
   ]
  },
  {
   "cell_type": "code",
   "execution_count": 20,
   "metadata": {
    "scrolled": true
   },
   "outputs": [],
   "source": [
    "from sklearn.metrics.pairwise import linear_kernel\n",
    "cosine_sim = linear_kernel(tf_matrix, tf_matrix)"
   ]
  },
  {
   "cell_type": "code",
   "execution_count": 21,
   "metadata": {},
   "outputs": [
    {
     "data": {
      "text/html": [
       "<div>\n",
       "<style scoped>\n",
       "    .dataframe tbody tr th:only-of-type {\n",
       "        vertical-align: middle;\n",
       "    }\n",
       "\n",
       "    .dataframe tbody tr th {\n",
       "        vertical-align: top;\n",
       "    }\n",
       "\n",
       "    .dataframe thead th {\n",
       "        text-align: right;\n",
       "    }\n",
       "</style>\n",
       "<table border=\"1\" class=\"dataframe\">\n",
       "  <thead>\n",
       "    <tr style=\"text-align: right;\">\n",
       "      <th></th>\n",
       "      <th>0</th>\n",
       "      <th>1</th>\n",
       "      <th>2</th>\n",
       "      <th>3</th>\n",
       "      <th>4</th>\n",
       "      <th>5</th>\n",
       "      <th>6</th>\n",
       "      <th>7</th>\n",
       "      <th>8</th>\n",
       "      <th>9</th>\n",
       "      <th>...</th>\n",
       "      <th>9990</th>\n",
       "      <th>9991</th>\n",
       "      <th>9992</th>\n",
       "      <th>9993</th>\n",
       "      <th>9994</th>\n",
       "      <th>9995</th>\n",
       "      <th>9996</th>\n",
       "      <th>9997</th>\n",
       "      <th>9998</th>\n",
       "      <th>9999</th>\n",
       "    </tr>\n",
       "  </thead>\n",
       "  <tbody>\n",
       "    <tr>\n",
       "      <th>0</th>\n",
       "      <td>1.000000</td>\n",
       "      <td>0.030766</td>\n",
       "      <td>0.075663</td>\n",
       "      <td>0.000000</td>\n",
       "      <td>0.071534</td>\n",
       "      <td>0.057926</td>\n",
       "      <td>0.061480</td>\n",
       "      <td>0.063950</td>\n",
       "      <td>0.172744</td>\n",
       "      <td>0.044490</td>\n",
       "      <td>...</td>\n",
       "      <td>0.000000</td>\n",
       "      <td>0.180422</td>\n",
       "      <td>0.037886</td>\n",
       "      <td>0.184209</td>\n",
       "      <td>0.164019</td>\n",
       "      <td>0.088737</td>\n",
       "      <td>0.034574</td>\n",
       "      <td>0.047299</td>\n",
       "      <td>0.065298</td>\n",
       "      <td>0.006800</td>\n",
       "    </tr>\n",
       "    <tr>\n",
       "      <th>1</th>\n",
       "      <td>0.030766</td>\n",
       "      <td>1.000000</td>\n",
       "      <td>0.034789</td>\n",
       "      <td>0.024070</td>\n",
       "      <td>0.033599</td>\n",
       "      <td>0.035565</td>\n",
       "      <td>0.025355</td>\n",
       "      <td>0.160380</td>\n",
       "      <td>0.053754</td>\n",
       "      <td>0.022365</td>\n",
       "      <td>...</td>\n",
       "      <td>0.100893</td>\n",
       "      <td>0.097161</td>\n",
       "      <td>0.095305</td>\n",
       "      <td>0.046278</td>\n",
       "      <td>0.087540</td>\n",
       "      <td>0.047248</td>\n",
       "      <td>0.060795</td>\n",
       "      <td>0.046840</td>\n",
       "      <td>0.028309</td>\n",
       "      <td>0.079752</td>\n",
       "    </tr>\n",
       "    <tr>\n",
       "      <th>2</th>\n",
       "      <td>0.075663</td>\n",
       "      <td>0.034789</td>\n",
       "      <td>1.000000</td>\n",
       "      <td>0.026701</td>\n",
       "      <td>0.018430</td>\n",
       "      <td>0.028838</td>\n",
       "      <td>0.000000</td>\n",
       "      <td>0.062853</td>\n",
       "      <td>0.025289</td>\n",
       "      <td>0.015658</td>\n",
       "      <td>...</td>\n",
       "      <td>0.033890</td>\n",
       "      <td>0.171605</td>\n",
       "      <td>0.078498</td>\n",
       "      <td>0.000000</td>\n",
       "      <td>0.072283</td>\n",
       "      <td>0.011690</td>\n",
       "      <td>0.000000</td>\n",
       "      <td>0.000000</td>\n",
       "      <td>0.088828</td>\n",
       "      <td>0.045069</td>\n",
       "    </tr>\n",
       "    <tr>\n",
       "      <th>3</th>\n",
       "      <td>0.000000</td>\n",
       "      <td>0.024070</td>\n",
       "      <td>0.026701</td>\n",
       "      <td>1.000000</td>\n",
       "      <td>0.083349</td>\n",
       "      <td>0.044421</td>\n",
       "      <td>0.032140</td>\n",
       "      <td>0.070208</td>\n",
       "      <td>0.010716</td>\n",
       "      <td>0.037750</td>\n",
       "      <td>...</td>\n",
       "      <td>0.009195</td>\n",
       "      <td>0.066644</td>\n",
       "      <td>0.021135</td>\n",
       "      <td>0.020701</td>\n",
       "      <td>0.047215</td>\n",
       "      <td>0.028201</td>\n",
       "      <td>0.010773</td>\n",
       "      <td>0.024156</td>\n",
       "      <td>0.046566</td>\n",
       "      <td>0.025094</td>\n",
       "    </tr>\n",
       "    <tr>\n",
       "      <th>4</th>\n",
       "      <td>0.071534</td>\n",
       "      <td>0.033599</td>\n",
       "      <td>0.018430</td>\n",
       "      <td>0.083349</td>\n",
       "      <td>1.000000</td>\n",
       "      <td>0.027048</td>\n",
       "      <td>0.016099</td>\n",
       "      <td>0.098756</td>\n",
       "      <td>0.062228</td>\n",
       "      <td>0.076794</td>\n",
       "      <td>...</td>\n",
       "      <td>0.073783</td>\n",
       "      <td>0.022212</td>\n",
       "      <td>0.040774</td>\n",
       "      <td>0.043794</td>\n",
       "      <td>0.077322</td>\n",
       "      <td>0.038596</td>\n",
       "      <td>0.117033</td>\n",
       "      <td>0.059283</td>\n",
       "      <td>0.054962</td>\n",
       "      <td>0.014998</td>\n",
       "    </tr>\n",
       "  </tbody>\n",
       "</table>\n",
       "<p>5 rows × 10000 columns</p>\n",
       "</div>"
      ],
      "text/plain": [
       "       0         1         2         3         4         5         6     \\\n",
       "0  1.000000  0.030766  0.075663  0.000000  0.071534  0.057926  0.061480   \n",
       "1  0.030766  1.000000  0.034789  0.024070  0.033599  0.035565  0.025355   \n",
       "2  0.075663  0.034789  1.000000  0.026701  0.018430  0.028838  0.000000   \n",
       "3  0.000000  0.024070  0.026701  1.000000  0.083349  0.044421  0.032140   \n",
       "4  0.071534  0.033599  0.018430  0.083349  1.000000  0.027048  0.016099   \n",
       "\n",
       "       7         8         9     ...      9990      9991      9992      9993  \\\n",
       "0  0.063950  0.172744  0.044490  ...  0.000000  0.180422  0.037886  0.184209   \n",
       "1  0.160380  0.053754  0.022365  ...  0.100893  0.097161  0.095305  0.046278   \n",
       "2  0.062853  0.025289  0.015658  ...  0.033890  0.171605  0.078498  0.000000   \n",
       "3  0.070208  0.010716  0.037750  ...  0.009195  0.066644  0.021135  0.020701   \n",
       "4  0.098756  0.062228  0.076794  ...  0.073783  0.022212  0.040774  0.043794   \n",
       "\n",
       "       9994      9995      9996      9997      9998      9999  \n",
       "0  0.164019  0.088737  0.034574  0.047299  0.065298  0.006800  \n",
       "1  0.087540  0.047248  0.060795  0.046840  0.028309  0.079752  \n",
       "2  0.072283  0.011690  0.000000  0.000000  0.088828  0.045069  \n",
       "3  0.047215  0.028201  0.010773  0.024156  0.046566  0.025094  \n",
       "4  0.077322  0.038596  0.117033  0.059283  0.054962  0.014998  \n",
       "\n",
       "[5 rows x 10000 columns]"
      ]
     },
     "execution_count": 21,
     "metadata": {},
     "output_type": "execute_result"
    }
   ],
   "source": [
    "cosine = pd.DataFrame(cosine_sim)\n",
    "cosine.head()"
   ]
  },
  {
   "cell_type": "code",
   "execution_count": 22,
   "metadata": {},
   "outputs": [],
   "source": [
    "indices = pd.Series(data.index, index=data['title']).drop_duplicates()"
   ]
  },
  {
   "cell_type": "markdown",
   "metadata": {},
   "source": [
    "-------------------------------------------------------------------------------------------------------------------------------"
   ]
  },
  {
   "cell_type": "markdown",
   "metadata": {},
   "source": [
    "## Bagian Ketujuh : Program\n",
    "Bagian ini adalah bagian utama dari proyek ini, dimana bagian ini adalah bagian yang akan berisi penjelasan dan implementasi dari Wine Matching. Dalam melakukan implementasi, kelompok kami mendapatkan bantuan dari FuzzyWuzzy library. FuzzyWuzzy digunakan untuk string matching dalam program. Keunggulan dari FuzzyWuzzy ini sendiri adalah memudahkan pemyamaan inputan dengan data nantinya. FuzzyWuzzy dapat membantu program mendeteksi kesamaan kata yang memang memiliki arti yang sama walaupun ditulis dalam berbagai macam bentuk.\n",
    "\n",
    "Contoh: jika kita memasukkan sebuah profesi \"Data Scientist\" atau \"data scientist\" atau juga \"data science\" dan menggunakan data matching yang biasa, mereka dianggap berbeda padahal seharusnya tidak.\n",
    "\n",
    "FuzzyWuzzy sangat cocok pada data wine, dikarnakan user tidak perlu mengetikkan nama wine sepersis mungkin untuk mendapatkan hasil pencarian. FuzzyWuzzy menerima beberapa parameter antara lain:\n",
    "1. inputan yang ingin dicari\n",
    "2. pilihan yang dihasilkan\n",
    "3. scoring system\n",
    "4. terkadang limit dari hasil yang diinginkan"
   ]
  },
  {
   "cell_type": "code",
   "execution_count": 23,
   "metadata": {},
   "outputs": [],
   "source": [
    "from fuzzywuzzy import fuzz\n",
    "from fuzzywuzzy import process\n",
    "\n",
    "pilih_satu = ''\n",
    "def get_pilihan(inputan):\n",
    "    \n",
    "    pilihan = data['title']    \n",
    "    \n",
    "    # 1. Mencari 5 yang paling mirip dan mempersilahkan user untuk memilih\n",
    "    mirip = (process.extract(inputan, pilihan, scorer = fuzz.ratio, limit = 5))\n",
    "    print(\"\\n Berikut adalah 5 wine yang menurut kami mirip, silahkan pilih salah satunya \\n\")\n",
    "    print(\"\\n\".join(map(str, mirip)))\n",
    "    \n",
    "    global pilih_satu\n",
    "    pilih_satu = input(\"Masukkan nama wine: \")\n",
    "    \n",
    "    print(\"\\n Sepertinya 10 wine ini yang paling mirip\", pilih_satu.title(), \"\\n\")\n",
    "    \n",
    "    def fuzzy_match(inputan):\n",
    "    \n",
    "        pilihan = data['title']    \n",
    "\n",
    "        # 2. Mengembalikan hasil yang paling mirip teratas\n",
    "        return process.extractOne(inputan, pilihan, scorer = fuzz.token_sort_ratio, score_cutoff = 50)[0]\n",
    "\n",
    "    # 3. Assign hasil\n",
    "    title = fuzzy_match(pilih_satu)\n",
    "\n",
    "    def get_matching(title, cosine_sim=cosine_sim):\n",
    "\n",
    "        # 4. Ambil index yang memiliki kemiripan\n",
    "        idx = indices[title]\n",
    "\n",
    "        # 5. Pairwise wine yang didapat ke seluruh wine yang ada\n",
    "        sim_scores = list(enumerate(cosine_sim[idx]))\n",
    "\n",
    "        # 6. Sorting\n",
    "        sim_scores = sorted(sim_scores, key=lambda x: x[1], reverse=True)\n",
    "\n",
    "        # 7. Ambil 10 yang paling mirip\n",
    "        sim_scores = sim_scores[0:11]\n",
    "\n",
    "        # 8. Ambil index dari wine\n",
    "        wine_indices = [i[0] for i in sim_scores]\n",
    "\n",
    "        # Mengembalikan 10 yang paling mirip tersebut\n",
    "        return data['title'].iloc[wine_indices]\n",
    "\n",
    "    results = get_matching(title)\n",
    "    print(results)"
   ]
  },
  {
   "cell_type": "code",
   "execution_count": 24,
   "metadata": {},
   "outputs": [
    {
     "name": "stdout",
     "output_type": "stream",
     "text": [
      "Wine apa yang anda inginkan ?black box\n",
      "\n",
      " Berikut adalah 5 wine yang menurut kami mirip, silahkan pilih salah satunya \n",
      "\n",
      "('Black Box 2013 Malbec (Mendoza)', 46, 1855)\n",
      "('Black Box 2011 Chardonnay (California)', 39, 2791)\n",
      "('Vallana 2009  Boca', 37, 7913)\n",
      "('Brezza 2013  Barolo', 36, 36925)\n",
      "('Malabaila 2015  Roero', 33, 119138)\n",
      "Masukkan nama wine: Black Box 2013 Malbec (Mendoza)\n",
      "\n",
      " Sepertinya 10 wine ini yang paling mirip Black Box 2013 Malbec (Mendoza) \n",
      "\n",
      "20491       Saint-Jean des Sources 2015 Picpoul (Languedoc)\n",
      "69767     Bowers Harbor 2014 Medium Sweet Riesling (Old ...\n",
      "6376      Fleur Du Cap 2016 Bergkelder Selection Chenin ...\n",
      "110338                   Avondale 2013 Cyclus White (Paarl)\n",
      "81526                      Olivetta 2014 Cortese (Piemonte)\n",
      "112584    Le Colture 2006 Pianer Extra Dry  (Prosecco di...\n",
      "42623     Charles Smith 2014 Kung Fu Girl Riesling (Anci...\n",
      "114949      Rudera 2009 Robusto Chenin Blanc (Stellenbosch)\n",
      "89749                                  Ottella 2015  Lugana\n",
      "71671     Valley View 2011 Anna Maria Viognier (Applegat...\n",
      "16258            Colosi 2013 Bianco White (Terre Siciliane)\n",
      "Name: title, dtype: object\n"
     ]
    }
   ],
   "source": [
    "pembukaan = input('Wine apa yang anda inginkan ?')\n",
    "get_pilihan(pembukaan)"
   ]
  },
  {
   "cell_type": "code",
   "execution_count": null,
   "metadata": {},
   "outputs": [],
   "source": []
  }
 ],
 "metadata": {
  "kernelspec": {
   "display_name": "Python 3",
   "language": "python",
   "name": "python3"
  },
  "language_info": {
   "codemirror_mode": {
    "name": "ipython",
    "version": 3
   },
   "file_extension": ".py",
   "mimetype": "text/x-python",
   "name": "python",
   "nbconvert_exporter": "python",
   "pygments_lexer": "ipython3",
   "version": "3.7.3"
  }
 },
 "nbformat": 4,
 "nbformat_minor": 2
}